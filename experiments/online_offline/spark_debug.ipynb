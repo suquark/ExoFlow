{
 "cells": [
  {
   "cell_type": "code",
   "execution_count": 23,
   "id": "86dfbf57",
   "metadata": {},
   "outputs": [],
   "source": [
    "from typing import Iterable, Tuple\n",
    "from operator import add as add_op\n",
    "\n",
    "import numpy as np\n",
    "import pandas as pd\n",
    "\n",
    "import pyspark\n",
    "from pyspark.resultiterable import ResultIterable\n",
    "from pyspark.sql.functions import sum, col, count, monotonically_increasing_id, mean, lit\n",
    "\n",
    "from pyspark.sql import DataFrame, SparkSession\n",
    "\n",
    "P_RETWEET = 0.00037"
   ]
  },
  {
   "cell_type": "code",
   "execution_count": 2,
   "id": "e8f89c93",
   "metadata": {},
   "outputs": [
    {
     "name": "stderr",
     "output_type": "stream",
     "text": [
      "Setting default log level to \"WARN\".\n",
      "To adjust logging level use sc.setLogLevel(newLevel). For SparkR, use setLogLevel(newLevel).\n"
     ]
    },
    {
     "name": "stdout",
     "output_type": "stream",
     "text": [
      "22/10/17 16:01:51 WARN NativeCodeLoader: Unable to load native-hadoop library for your platform... using builtin-java classes where applicable\n"
     ]
    }
   ],
   "source": [
    "sc = SparkSession.builder.master(\"local[*]\").appName(\"TunkRank\").getOrCreate()"
   ]
  },
  {
   "cell_type": "code",
   "execution_count": 6,
   "id": "78c21604",
   "metadata": {},
   "outputs": [],
   "source": [
    "arrs = np.array(\n",
    "    [[1, 2],\n",
    "     [2, 3],\n",
    "     [1, 3],\n",
    "     [1, 4],\n",
    "     [2, 4],\n",
    "     [3, 1],\n",
    "     [5, 3],\n",
    "     [4, 1],\n",
    "    ], dtype=np.uint32,\n",
    ")\n",
    "\n",
    "df = pd.DataFrame(arrs, columns=[\"a\", \"b\"])\n",
    "graph = sc.createDataFrame(df)"
   ]
  },
  {
   "cell_type": "markdown",
   "id": "ae92f407",
   "metadata": {},
   "source": [
    "# Method 1"
   ]
  },
  {
   "cell_type": "code",
   "execution_count": 4,
   "id": "5e50a026",
   "metadata": {},
   "outputs": [],
   "source": [
    "def compute_contibutes(following: ResultIterable[int], influence: float) -> Iterable[Tuple[int, float]]:\n",
    "    \"\"\"Calculates URL contributions to the rank of other URLs.\"\"\"\n",
    "    n_following = len(following)\n",
    "    contrib = (1 + P_RETWEET * influence) / n_following\n",
    "    for t in following:\n",
    "        yield t, contrib"
   ]
  },
  {
   "cell_type": "code",
   "execution_count": 5,
   "id": "aaeb4e84",
   "metadata": {},
   "outputs": [],
   "source": [
    "rdd = graph.rdd\n",
    "following = rdd.map(lambda x: (x[1], x[0])).groupByKey().cache()\n",
    "follower = rdd.groupByKey()\n",
    "influence = follower.map(lambda neighbors: (neighbors[0], 0.0))"
   ]
  },
  {
   "cell_type": "code",
   "execution_count": 6,
   "id": "a5439733",
   "metadata": {},
   "outputs": [
    {
     "name": "stdout",
     "output_type": "stream",
     "text": [
      ">>> Tunk rank (iteration=1)\n",
      ">>> Tunk rank (iteration=2)\n"
     ]
    },
    {
     "name": "stderr",
     "output_type": "stream",
     "text": [
      "[Stage 0:>                  (0 + 8) / 8][Stage 1:>                  (0 + 0) / 8]\r"
     ]
    },
    {
     "name": "stdout",
     "output_type": "stream",
     "text": [
      "4.7154444444476226e-07\n"
     ]
    },
    {
     "name": "stderr",
     "output_type": "stream",
     "text": [
      "\r",
      "                                                                                \r"
     ]
    }
   ],
   "source": [
    "iteration = 0\n",
    "while True:\n",
    "    iteration += 1\n",
    "    old_influence = influence\n",
    "    print(f\">>> Tunk rank (iteration={iteration})\")\n",
    "    # Calculates URL contributions to the rank of other URLs.\n",
    "    contribs = following.join(influence).flatMap(lambda x: compute_contibutes(x[1][0], x[1][1]))\n",
    "    # Re-calculates URL ranks based on neighbor contributions.\n",
    "    influence = contribs.reduceByKey(add_op)\n",
    "    if iteration > 1:\n",
    "        delta = influence.join(old_influence).map(lambda x: (1, (x[1][0] - x[1][1]) ** 2)).reduceByKey(add_op).collect()[0][1]\n",
    "        print(delta)\n",
    "        if delta < 0.001:\n",
    "            break"
   ]
  },
  {
   "cell_type": "code",
   "execution_count": 163,
   "id": "011936de",
   "metadata": {},
   "outputs": [
    {
     "data": {
      "text/html": [
       "<div>\n",
       "<style scoped>\n",
       "    .dataframe tbody tr th:only-of-type {\n",
       "        vertical-align: middle;\n",
       "    }\n",
       "\n",
       "    .dataframe tbody tr th {\n",
       "        vertical-align: top;\n",
       "    }\n",
       "\n",
       "    .dataframe thead th {\n",
       "        text-align: right;\n",
       "    }\n",
       "</style>\n",
       "<table border=\"1\" class=\"dataframe\">\n",
       "  <thead>\n",
       "    <tr style=\"text-align: right;\">\n",
       "      <th></th>\n",
       "      <th>a</th>\n",
       "      <th>influence</th>\n",
       "    </tr>\n",
       "  </thead>\n",
       "  <tbody>\n",
       "    <tr>\n",
       "      <th>0</th>\n",
       "      <td>1</td>\n",
       "      <td>1.833796</td>\n",
       "    </tr>\n",
       "    <tr>\n",
       "      <th>1</th>\n",
       "      <td>2</td>\n",
       "      <td>0.833488</td>\n",
       "    </tr>\n",
       "    <tr>\n",
       "      <th>2</th>\n",
       "      <td>3</td>\n",
       "      <td>0.500339</td>\n",
       "    </tr>\n",
       "    <tr>\n",
       "      <th>3</th>\n",
       "      <td>4</td>\n",
       "      <td>0.500339</td>\n",
       "    </tr>\n",
       "    <tr>\n",
       "      <th>4</th>\n",
       "      <td>5</td>\n",
       "      <td>0.333395</td>\n",
       "    </tr>\n",
       "  </tbody>\n",
       "</table>\n",
       "</div>"
      ],
      "text/plain": [
       "   a  influence\n",
       "0  1   1.833796\n",
       "1  2   0.833488\n",
       "2  3   0.500339\n",
       "3  4   0.500339\n",
       "4  5   0.333395"
      ]
     },
     "execution_count": 163,
     "metadata": {},
     "output_type": "execute_result"
    }
   ],
   "source": [
    "influence_sorted = influence.sortBy(lambda x: x[1], ascending=False)\n",
    "influence_sorted.toDF([\"a\", \"influence\"]).toPandas()"
   ]
  },
  {
   "cell_type": "code",
   "execution_count": 7,
   "id": "489e11bd",
   "metadata": {},
   "outputs": [],
   "source": [
    "sc.stop()"
   ]
  },
  {
   "cell_type": "code",
   "execution_count": null,
   "id": "5dc41ea0",
   "metadata": {},
   "outputs": [],
   "source": []
  },
  {
   "cell_type": "markdown",
   "id": "4c7837e9",
   "metadata": {},
   "source": [
    "# Alternative"
   ]
  },
  {
   "cell_type": "code",
   "execution_count": 37,
   "id": "583b15c5",
   "metadata": {},
   "outputs": [
    {
     "name": "stdout",
     "output_type": "stream",
     "text": [
      "22/10/17 16:33:07 WARN CacheManager: Asked to cache already cached data.\n"
     ]
    }
   ],
   "source": [
    "influence = graph.select(\"a\").withColumnRenamed(\"a\", \"uid\").distinct().withColumn(\"influence\", lit(0.))\n",
    "following = graph.withColumnRenamed(\"b\", \"uid\")\n",
    "n_following = following.groupby(\"uid\").agg(count(\"a\").alias(\"count\"))\n",
    "ratio = following.join(n_following, on=\"uid\", how=\"left\").cache()"
   ]
  },
  {
   "cell_type": "code",
   "execution_count": 40,
   "id": "6b798c49",
   "metadata": {},
   "outputs": [
    {
     "name": "stdout",
     "output_type": "stream",
     "text": [
      "1.0689659032927415e-14\n"
     ]
    }
   ],
   "source": [
    "old_influence = influence.withColumnRenamed(\"influence\", \"old_influence\")\n",
    "full_map = ratio.join(influence, on=\"uid\", how=\"left\").select(col(\"a\").alias(\"uid\"), \"count\", \"influence\")\n",
    "contribs = full_map.select(\"uid\", ((1 + P_RETWEET * col(\"influence\")) / col(\"count\")).alias(\"contrib\"))\n",
    "influence = contribs.groupby(\"uid\").agg(sum(\"contrib\").alias(\"influence\"))\n",
    "\n",
    "delta = influence.join(old_influence, on=\"uid\").select(((col(\"influence\") - col(\"old_influence\")) ** 2).alias(\"squ\")).agg(mean(\"squ\").alias(\"mean_squ\"))\n",
    "print(delta.first()[\"mean_squ\"])"
   ]
  },
  {
   "cell_type": "code",
   "execution_count": 10,
   "id": "60eecb62",
   "metadata": {},
   "outputs": [
    {
     "name": "stderr",
     "output_type": "stream",
     "text": [
      "                                                                                \r"
     ]
    },
    {
     "data": {
      "text/plain": [
       "[Row(a=1, influence=0.0),\n",
       " Row(a=2, influence=0.0),\n",
       " Row(a=3, influence=0.0),\n",
       " Row(a=5, influence=0.0),\n",
       " Row(a=4, influence=0.0)]"
      ]
     },
     "execution_count": 10,
     "metadata": {},
     "output_type": "execute_result"
    }
   ],
   "source": [
    "influence.collect()"
   ]
  },
  {
   "cell_type": "code",
   "execution_count": 18,
   "id": "57955d76",
   "metadata": {},
   "outputs": [],
   "source": [
    "sc.sql?"
   ]
  },
  {
   "cell_type": "code",
   "execution_count": null,
   "id": "f5b82e12",
   "metadata": {},
   "outputs": [],
   "source": []
  }
 ],
 "metadata": {
  "kernelspec": {
   "display_name": "Python 3 (ipykernel)",
   "language": "python",
   "name": "python3"
  },
  "language_info": {
   "codemirror_mode": {
    "name": "ipython",
    "version": 3
   },
   "file_extension": ".py",
   "mimetype": "text/x-python",
   "name": "python",
   "nbconvert_exporter": "python",
   "pygments_lexer": "ipython3",
   "version": "3.8.13"
  }
 },
 "nbformat": 4,
 "nbformat_minor": 5
}
